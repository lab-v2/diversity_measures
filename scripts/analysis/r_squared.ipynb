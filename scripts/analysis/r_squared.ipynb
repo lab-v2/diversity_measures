{
 "cells": [
  {
   "cell_type": "code",
   "execution_count": 87,
   "metadata": {},
   "outputs": [],
   "source": [
    "import pandas\n",
    "from sklearn.linear_model import LinearRegression"
   ]
  },
  {
   "cell_type": "code",
   "execution_count": 88,
   "metadata": {},
   "outputs": [
    {
     "name": "stdout",
     "output_type": "stream",
     "text": [
      "../../data/machine-learning/base-T0.7/arc.jsonl: R^2 = 0.8880375931796985\n",
      "../../data/machine-learning/base-T0.7/csqa.jsonl: R^2 = 0.6356401458030061\n",
      "../../data/machine-learning/base-T0.7/draw.jsonl: R^2 = 0.9887195794694439\n",
      "../../data/machine-learning/base-T0.7/last_letters.jsonl: R^2 = 0.8094144172706068\n",
      "../../data/machine-learning/base-T0.7/svamp.jsonl: R^2 = 0.9023171986586564\n"
     ]
    }
   ],
   "source": [
    "for file_path in [\n",
    "    '../../data/machine-learning/base-T0.7/arc.jsonl',\n",
    "    '../../data/machine-learning/base-T0.7/csqa.jsonl',\n",
    "    '../../data/machine-learning/base-T0.7/draw.jsonl',\n",
    "    '../../data/machine-learning/base-T0.7/last_letters.jsonl',\n",
    "    '../../data/machine-learning/base-T0.7/svamp.jsonl'\n",
    "]:\n",
    "    df = pandas.read_json(file_path, lines=True)\n",
    "    \n",
    "    ret = []\n",
    "    for i in range(0, 10000):\n",
    "        max_entropy = i * 0.1\n",
    "        df_filtered = df[df['shannon_entropy'] >= max_entropy]\n",
    "\n",
    "        if len(df_filtered) == 0: break\n",
    "\n",
    "        num_correct = len(df_filtered[df_filtered['majority_correct']])\n",
    "        num_total = len(df_filtered)\n",
    "\n",
    "        if (num_total == 0): percent_wrong = 0\n",
    "        else: percent_wrong = (num_total - num_correct) / num_total\n",
    "        ret.append({\n",
    "            'max_entropy': max_entropy,\n",
    "            'num_correct': num_correct,\n",
    "            'num_total': num_total,\n",
    "            'percent_wrong': percent_wrong\n",
    "        })\n",
    "    \n",
    "    # Calculate R^2\n",
    "    df_ret = pandas.DataFrame(ret)\n",
    "    X = df_ret['max_entropy'].values.reshape(-1, 1)\n",
    "    y = df_ret['percent_wrong'].values\n",
    "    reg = LinearRegression().fit(X, y)\n",
    "    r2 = reg.score(X, y)\n",
    "    print(f'{file_path}: R^2 = {r2}')"
   ]
  }
 ],
 "metadata": {
  "kernelspec": {
   "display_name": "venv",
   "language": "python",
   "name": "python3"
  },
  "language_info": {
   "codemirror_mode": {
    "name": "ipython",
    "version": 3
   },
   "file_extension": ".py",
   "mimetype": "text/x-python",
   "name": "python",
   "nbconvert_exporter": "python",
   "pygments_lexer": "ipython3",
   "version": "3.8.10"
  }
 },
 "nbformat": 4,
 "nbformat_minor": 2
}
